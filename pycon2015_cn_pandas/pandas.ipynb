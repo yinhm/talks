{
 "cells": [
  {
   "cell_type": "markdown",
   "metadata": {
    "slideshow": {
     "slide_type": "slide"
    }
   },
   "source": [
    "<center>\n",
    "<h1>Pandas在金融数据分析中的应用</h1>\n",
    "<br>\n",
    "<h3>殷海明</h3><br>\n",
    "<h3><img src='http://pyconcn.qiniucdn.com/zoomquiet/res/logo/150801-cnpycon-barnner-h80.png' alt=\"PyCon 2015 China\"></h3>\n",
    "</center>"
   ]
  },
  {
   "cell_type": "markdown",
   "metadata": {
    "slideshow": {
     "slide_type": "slide"
    }
   },
   "source": [
    "\n",
    "关于我\n",
    "===\n",
    "\n",
    "\n",
    " * Golang, Python, Ruby, PHP\n",
    " * 私募基金经理，程序化交易系统，量化研发平台\n",
    " * @yinhm\n",
    " * https://github.com/yinhm\n",
    "\n"
   ]
  },
  {
   "cell_type": "markdown",
   "metadata": {
    "slideshow": {
     "slide_type": "slide"
    }
   },
   "source": [
    "## 为何使用Python进行数据分析？"
   ]
  },
  {
   "cell_type": "markdown",
   "metadata": {
    "slideshow": {
     "slide_type": "fragment"
    }
   },
   "source": [
    "* Python作为通用语言，研发和生产可以用一套代码\n",
    "* Python成为数据科学领域标准语言\n",
    " - 工程上，科研上都能得心应手，生产率高\n",
    " - 语言本身足够鲁棒，交互式数据处理环境（Jupyter，Bokth等）\n",
    " - 简单易学，团队易接受\n",
    " - Python社区发达，各种库\n",
    "* 其它方案：\n",
    " - R库丰富，语法怪异，生产环境不友好\n",
    " - Matlab不开源，社区较弱"
   ]
  },
  {
   "cell_type": "markdown",
   "metadata": {
    "slideshow": {
     "slide_type": "slide"
    }
   },
   "source": [
    "<center> <h2>The PyData Stack</h2>\n",
    "\n",
    "<center><img src='pydata_stack-4.jpg' width=70%></center>"
   ]
  },
  {
   "cell_type": "markdown",
   "metadata": {
    "slideshow": {
     "slide_type": "slide"
    }
   },
   "source": [
    "## Pandas缘起\n",
    "\n",
    " * 为数据分析而生，受R data.frame启发，超越R\n",
    " * 作者认为R存在不足（语言本身，速度，内存占用，通用库，工具以及GPL授权）\n",
    " * 用于数据清洗，金融建模，统计建模，计量分析等\n",
    " "
   ]
  },
  {
   "cell_type": "markdown",
   "metadata": {
    "slideshow": {
     "slide_type": "slide"
    }
   },
   "source": [
    "## Pandas是什么\n",
    "\n",
    " * **pan**el **da**ta **s**tructures\n",
    " * 各种数据分析统计数据结构\n",
    " * 数据索引、切片，可存储异构数据\n",
    " * 类似 R data.frame，特性更丰富\n",
    " * 支持 Missing data\n",
    " * 对时序数据支持极佳\n",
    " * 始自 AQR 2008, 2011年发布0.3，最新 0.17 RC1\n",
    " * Python（大）数据分析基本工具\n",
    " "
   ]
  },
  {
   "cell_type": "markdown",
   "metadata": {
    "slideshow": {
     "slide_type": "slide"
    }
   },
   "source": [
    "## Pandas概要\n",
    "\n",
    " * 支持快速排列，查询， 分级索引等\n",
    " * 高性能数据结构\n",
    "  - Series/TimeSeries: 1D labeled vector\n",
    "  - DataFrame: 2D 数据表\n",
    "  - Panel: 3D labeled array, collection of DataFrames\n",
    " * 类SQL特性: GroupBy, joining/merging, etc\n",
    " * 缺失数据处理\n",
    " * 时序数据支持"
   ]
  },
  {
   "cell_type": "markdown",
   "metadata": {
    "slideshow": {
     "slide_type": "slide"
    }
   },
   "source": [
    "## 如何学习Pandas\n",
    "\n",
    "* ipython（现在叫 jupyter），numpy\n",
    "* Pandas入门教程: http://pandas.pydata.org/pandas-docs/stable/tutorials.html\n",
    "* Pandas作者《利用Python进行数据分析》<center><img src='pandas-book.jpg' width=70%></center>"
   ]
  },
  {
   "cell_type": "markdown",
   "metadata": {
    "slideshow": {
     "slide_type": "slide"
    }
   },
   "source": [
    "## Pandas Series"
   ]
  },
  {
   "cell_type": "code",
   "execution_count": 8,
   "metadata": {
    "collapsed": false,
    "slideshow": {
     "slide_type": "fragment"
    }
   },
   "outputs": [],
   "source": [
    "import pandas as pd\n",
    "import numpy as np\n",
    "\n",
    "import matplotlib\n",
    "import matplotlib.pyplot as plt\n",
    "plt.style.use('ggplot')\n",
    "#matplotlib.style.use('ggplot')\n",
    "%matplotlib inline"
   ]
  },
  {
   "cell_type": "code",
   "execution_count": 9,
   "metadata": {
    "collapsed": false,
    "slideshow": {
     "slide_type": "fragment"
    }
   },
   "outputs": [
    {
     "data": {
      "text/plain": [
       "0     1\n",
       "1     3\n",
       "2     5\n",
       "3   NaN\n",
       "4     6\n",
       "5     8\n",
       "dtype: float64"
      ]
     },
     "execution_count": 9,
     "metadata": {},
     "output_type": "execute_result"
    }
   ],
   "source": [
    "s = pd.Series([1,3,5,np.nan,6,8])\n",
    "s"
   ]
  },
  {
   "cell_type": "markdown",
   "metadata": {
    "slideshow": {
     "slide_type": "slide"
    }
   },
   "source": [
    "## DataFrame"
   ]
  },
  {
   "cell_type": "code",
   "execution_count": 10,
   "metadata": {
    "collapsed": false
   },
   "outputs": [
    {
     "data": {
      "text/html": [
       "<div>\n",
       "<table border=\"1\" class=\"dataframe\">\n",
       "  <thead>\n",
       "    <tr style=\"text-align: right;\">\n",
       "      <th></th>\n",
       "      <th>A</th>\n",
       "      <th>B</th>\n",
       "      <th>C</th>\n",
       "      <th>D</th>\n",
       "    </tr>\n",
       "  </thead>\n",
       "  <tbody>\n",
       "    <tr>\n",
       "      <th>2013-01-01</th>\n",
       "      <td>-0.023772</td>\n",
       "      <td>-0.004207</td>\n",
       "      <td>-0.297225</td>\n",
       "      <td>-0.054452</td>\n",
       "    </tr>\n",
       "    <tr>\n",
       "      <th>2013-01-02</th>\n",
       "      <td>-0.865695</td>\n",
       "      <td>0.135001</td>\n",
       "      <td>-0.235754</td>\n",
       "      <td>0.130876</td>\n",
       "    </tr>\n",
       "    <tr>\n",
       "      <th>2013-01-03</th>\n",
       "      <td>-0.666623</td>\n",
       "      <td>-0.816342</td>\n",
       "      <td>-0.330656</td>\n",
       "      <td>1.351578</td>\n",
       "    </tr>\n",
       "    <tr>\n",
       "      <th>2013-01-04</th>\n",
       "      <td>0.841814</td>\n",
       "      <td>0.037691</td>\n",
       "      <td>-0.080182</td>\n",
       "      <td>-0.116882</td>\n",
       "    </tr>\n",
       "    <tr>\n",
       "      <th>2013-01-05</th>\n",
       "      <td>-0.116637</td>\n",
       "      <td>0.638748</td>\n",
       "      <td>-0.431578</td>\n",
       "      <td>-0.708006</td>\n",
       "    </tr>\n",
       "    <tr>\n",
       "      <th>2013-01-06</th>\n",
       "      <td>0.979481</td>\n",
       "      <td>0.083391</td>\n",
       "      <td>-0.897525</td>\n",
       "      <td>0.707786</td>\n",
       "    </tr>\n",
       "  </tbody>\n",
       "</table>\n",
       "</div>"
      ],
      "text/plain": [
       "                   A         B         C         D\n",
       "2013-01-01 -0.023772 -0.004207 -0.297225 -0.054452\n",
       "2013-01-02 -0.865695  0.135001 -0.235754  0.130876\n",
       "2013-01-03 -0.666623 -0.816342 -0.330656  1.351578\n",
       "2013-01-04  0.841814  0.037691 -0.080182 -0.116882\n",
       "2013-01-05 -0.116637  0.638748 -0.431578 -0.708006\n",
       "2013-01-06  0.979481  0.083391 -0.897525  0.707786"
      ]
     },
     "execution_count": 10,
     "metadata": {},
     "output_type": "execute_result"
    }
   ],
   "source": [
    "index = pd.date_range('20130101', periods=6)\n",
    "df = pd.DataFrame(np.random.randn(6,4), index=index, columns=list('ABCD'))\n",
    "df"
   ]
  },
  {
   "cell_type": "code",
   "execution_count": 11,
   "metadata": {
    "collapsed": false,
    "slideshow": {
     "slide_type": "slide"
    }
   },
   "outputs": [
    {
     "data": {
      "text/html": [
       "<div>\n",
       "<table border=\"1\" class=\"dataframe\">\n",
       "  <thead>\n",
       "    <tr style=\"text-align: right;\">\n",
       "      <th></th>\n",
       "      <th>A</th>\n",
       "      <th>B</th>\n",
       "      <th>C</th>\n",
       "      <th>D</th>\n",
       "    </tr>\n",
       "  </thead>\n",
       "  <tbody>\n",
       "    <tr>\n",
       "      <th>2013-01-04</th>\n",
       "      <td>0.841814</td>\n",
       "      <td>0.037691</td>\n",
       "      <td>-0.080182</td>\n",
       "      <td>-0.116882</td>\n",
       "    </tr>\n",
       "    <tr>\n",
       "      <th>2013-01-06</th>\n",
       "      <td>0.979481</td>\n",
       "      <td>0.083391</td>\n",
       "      <td>-0.897525</td>\n",
       "      <td>0.707786</td>\n",
       "    </tr>\n",
       "  </tbody>\n",
       "</table>\n",
       "</div>"
      ],
      "text/plain": [
       "                   A         B         C         D\n",
       "2013-01-04  0.841814  0.037691 -0.080182 -0.116882\n",
       "2013-01-06  0.979481  0.083391 -0.897525  0.707786"
      ]
     },
     "execution_count": 11,
     "metadata": {},
     "output_type": "execute_result"
    }
   ],
   "source": [
    "df[df.A > 0]"
   ]
  },
  {
   "cell_type": "code",
   "execution_count": 12,
   "metadata": {
    "collapsed": false,
    "slideshow": {
     "slide_type": "slide"
    }
   },
   "outputs": [
    {
     "data": {
      "text/plain": [
       "A    0.024761\n",
       "B    0.012380\n",
       "C   -0.378820\n",
       "D    0.218483\n",
       "dtype: float64"
      ]
     },
     "execution_count": 12,
     "metadata": {},
     "output_type": "execute_result"
    }
   ],
   "source": [
    "df.mean()"
   ]
  },
  {
   "cell_type": "code",
   "execution_count": 13,
   "metadata": {
    "collapsed": false,
    "slideshow": {
     "slide_type": "slide"
    }
   },
   "outputs": [
    {
     "data": {
      "text/plain": [
       "2013-01-01   -0.094914\n",
       "2013-01-02   -0.208893\n",
       "2013-01-03   -0.115511\n",
       "2013-01-04    0.170610\n",
       "2013-01-05   -0.154368\n",
       "2013-01-06    0.218283\n",
       "Freq: D, dtype: float64"
      ]
     },
     "execution_count": 13,
     "metadata": {},
     "output_type": "execute_result"
    }
   ],
   "source": [
    "df.mean(axis='columns')"
   ]
  },
  {
   "cell_type": "code",
   "execution_count": 14,
   "metadata": {
    "collapsed": false,
    "slideshow": {
     "slide_type": "slide"
    }
   },
   "outputs": [
    {
     "data": {
      "text/html": [
       "<div>\n",
       "<table border=\"1\" class=\"dataframe\">\n",
       "  <thead>\n",
       "    <tr style=\"text-align: right;\">\n",
       "      <th></th>\n",
       "      <th>A</th>\n",
       "      <th>B</th>\n",
       "      <th>C</th>\n",
       "      <th>D</th>\n",
       "      <th>E</th>\n",
       "      <th>F</th>\n",
       "    </tr>\n",
       "  </thead>\n",
       "  <tbody>\n",
       "    <tr>\n",
       "      <th>0</th>\n",
       "      <td>1</td>\n",
       "      <td>2013-01-02</td>\n",
       "      <td>1</td>\n",
       "      <td>3</td>\n",
       "      <td>test</td>\n",
       "      <td>foo</td>\n",
       "    </tr>\n",
       "    <tr>\n",
       "      <th>1</th>\n",
       "      <td>1</td>\n",
       "      <td>2013-01-02</td>\n",
       "      <td>1</td>\n",
       "      <td>3</td>\n",
       "      <td>train</td>\n",
       "      <td>foo</td>\n",
       "    </tr>\n",
       "    <tr>\n",
       "      <th>2</th>\n",
       "      <td>1</td>\n",
       "      <td>2013-01-02</td>\n",
       "      <td>1</td>\n",
       "      <td>3</td>\n",
       "      <td>test</td>\n",
       "      <td>foo</td>\n",
       "    </tr>\n",
       "    <tr>\n",
       "      <th>3</th>\n",
       "      <td>1</td>\n",
       "      <td>2013-01-02</td>\n",
       "      <td>1</td>\n",
       "      <td>3</td>\n",
       "      <td>train</td>\n",
       "      <td>foo</td>\n",
       "    </tr>\n",
       "  </tbody>\n",
       "</table>\n",
       "</div>"
      ],
      "text/plain": [
       "   A          B  C  D      E    F\n",
       "0  1 2013-01-02  1  3   test  foo\n",
       "1  1 2013-01-02  1  3  train  foo\n",
       "2  1 2013-01-02  1  3   test  foo\n",
       "3  1 2013-01-02  1  3  train  foo"
      ]
     },
     "execution_count": 14,
     "metadata": {},
     "output_type": "execute_result"
    }
   ],
   "source": [
    "df2 = pd.DataFrame({ 'A' : 1.,\n",
    "                     'B' : pd.Timestamp('20130102'),\n",
    "                     'C' : pd.Series(1,index=list(range(4)),dtype='float32'),\n",
    "                     'D' : np.array([3] * 4,dtype='int32'),\n",
    "                     'E' : pd.Categorical([\"test\",\"train\",\"test\",\"train\"]),\n",
    "                     'F' : 'foo' })\n",
    "\n",
    "df2"
   ]
  },
  {
   "cell_type": "code",
   "execution_count": 15,
   "metadata": {
    "collapsed": false,
    "slideshow": {
     "slide_type": "fragment"
    }
   },
   "outputs": [
    {
     "data": {
      "text/plain": [
       "A           float64\n",
       "B    datetime64[ns]\n",
       "C           float32\n",
       "D             int32\n",
       "E          category\n",
       "F            object\n",
       "dtype: object"
      ]
     },
     "execution_count": 15,
     "metadata": {},
     "output_type": "execute_result"
    }
   ],
   "source": [
    "df2.dtypes"
   ]
  },
  {
   "cell_type": "markdown",
   "metadata": {
    "slideshow": {
     "slide_type": "slide"
    }
   },
   "source": [
    "### Grouping"
   ]
  },
  {
   "cell_type": "code",
   "execution_count": 16,
   "metadata": {
    "collapsed": false,
    "slideshow": {
     "slide_type": "fragment"
    }
   },
   "outputs": [
    {
     "data": {
      "text/html": [
       "<div>\n",
       "<table border=\"1\" class=\"dataframe\">\n",
       "  <thead>\n",
       "    <tr style=\"text-align: right;\">\n",
       "      <th></th>\n",
       "      <th>A</th>\n",
       "      <th>B</th>\n",
       "      <th>C</th>\n",
       "      <th>D</th>\n",
       "    </tr>\n",
       "  </thead>\n",
       "  <tbody>\n",
       "    <tr>\n",
       "      <th>0</th>\n",
       "      <td>foo</td>\n",
       "      <td>one</td>\n",
       "      <td>-1.723312</td>\n",
       "      <td>1.312312</td>\n",
       "    </tr>\n",
       "    <tr>\n",
       "      <th>1</th>\n",
       "      <td>bar</td>\n",
       "      <td>one</td>\n",
       "      <td>0.826252</td>\n",
       "      <td>1.791680</td>\n",
       "    </tr>\n",
       "    <tr>\n",
       "      <th>2</th>\n",
       "      <td>foo</td>\n",
       "      <td>two</td>\n",
       "      <td>-0.263170</td>\n",
       "      <td>0.480115</td>\n",
       "    </tr>\n",
       "    <tr>\n",
       "      <th>3</th>\n",
       "      <td>bar</td>\n",
       "      <td>three</td>\n",
       "      <td>0.064571</td>\n",
       "      <td>-0.161596</td>\n",
       "    </tr>\n",
       "    <tr>\n",
       "      <th>4</th>\n",
       "      <td>foo</td>\n",
       "      <td>two</td>\n",
       "      <td>-0.033287</td>\n",
       "      <td>-1.329652</td>\n",
       "    </tr>\n",
       "    <tr>\n",
       "      <th>5</th>\n",
       "      <td>bar</td>\n",
       "      <td>two</td>\n",
       "      <td>-0.746722</td>\n",
       "      <td>1.199988</td>\n",
       "    </tr>\n",
       "    <tr>\n",
       "      <th>6</th>\n",
       "      <td>foo</td>\n",
       "      <td>one</td>\n",
       "      <td>-0.379138</td>\n",
       "      <td>2.078708</td>\n",
       "    </tr>\n",
       "    <tr>\n",
       "      <th>7</th>\n",
       "      <td>foo</td>\n",
       "      <td>three</td>\n",
       "      <td>-0.645134</td>\n",
       "      <td>1.360630</td>\n",
       "    </tr>\n",
       "  </tbody>\n",
       "</table>\n",
       "</div>"
      ],
      "text/plain": [
       "     A      B         C         D\n",
       "0  foo    one -1.723312  1.312312\n",
       "1  bar    one  0.826252  1.791680\n",
       "2  foo    two -0.263170  0.480115\n",
       "3  bar  three  0.064571 -0.161596\n",
       "4  foo    two -0.033287 -1.329652\n",
       "5  bar    two -0.746722  1.199988\n",
       "6  foo    one -0.379138  2.078708\n",
       "7  foo  three -0.645134  1.360630"
      ]
     },
     "execution_count": 16,
     "metadata": {},
     "output_type": "execute_result"
    }
   ],
   "source": [
    "df = pd.DataFrame({'A' : ['foo', 'bar', 'foo', 'bar',\n",
    "                          'foo', 'bar', 'foo', 'foo'],\n",
    "                   'B' : ['one', 'one', 'two', 'three',\n",
    "                          'two', 'two', 'one', 'three'],\n",
    "                   'C' : np.random.randn(8),\n",
    "                   'D' : np.random.randn(8)})\n",
    "df"
   ]
  },
  {
   "cell_type": "code",
   "execution_count": 17,
   "metadata": {
    "collapsed": false,
    "slideshow": {
     "slide_type": "slide"
    }
   },
   "outputs": [
    {
     "data": {
      "text/html": [
       "<div>\n",
       "<table border=\"1\" class=\"dataframe\">\n",
       "  <thead>\n",
       "    <tr style=\"text-align: right;\">\n",
       "      <th></th>\n",
       "      <th>C</th>\n",
       "      <th>D</th>\n",
       "    </tr>\n",
       "    <tr>\n",
       "      <th>A</th>\n",
       "      <th></th>\n",
       "      <th></th>\n",
       "    </tr>\n",
       "  </thead>\n",
       "  <tbody>\n",
       "    <tr>\n",
       "      <th>bar</th>\n",
       "      <td>0.144101</td>\n",
       "      <td>2.830072</td>\n",
       "    </tr>\n",
       "    <tr>\n",
       "      <th>foo</th>\n",
       "      <td>-3.044041</td>\n",
       "      <td>3.902113</td>\n",
       "    </tr>\n",
       "  </tbody>\n",
       "</table>\n",
       "</div>"
      ],
      "text/plain": [
       "            C         D\n",
       "A                      \n",
       "bar  0.144101  2.830072\n",
       "foo -3.044041  3.902113"
      ]
     },
     "execution_count": 17,
     "metadata": {},
     "output_type": "execute_result"
    }
   ],
   "source": [
    "df.groupby('A').sum()"
   ]
  },
  {
   "cell_type": "code",
   "execution_count": 18,
   "metadata": {
    "collapsed": false,
    "slideshow": {
     "slide_type": "slide"
    }
   },
   "outputs": [
    {
     "data": {
      "text/html": [
       "<div>\n",
       "<table border=\"1\" class=\"dataframe\">\n",
       "  <thead>\n",
       "    <tr style=\"text-align: right;\">\n",
       "      <th></th>\n",
       "      <th></th>\n",
       "      <th>C</th>\n",
       "      <th>D</th>\n",
       "    </tr>\n",
       "    <tr>\n",
       "      <th>A</th>\n",
       "      <th>B</th>\n",
       "      <th></th>\n",
       "      <th></th>\n",
       "    </tr>\n",
       "  </thead>\n",
       "  <tbody>\n",
       "    <tr>\n",
       "      <th rowspan=\"3\" valign=\"top\">bar</th>\n",
       "      <th>one</th>\n",
       "      <td>0.826252</td>\n",
       "      <td>1.791680</td>\n",
       "    </tr>\n",
       "    <tr>\n",
       "      <th>three</th>\n",
       "      <td>0.064571</td>\n",
       "      <td>-0.161596</td>\n",
       "    </tr>\n",
       "    <tr>\n",
       "      <th>two</th>\n",
       "      <td>-0.746722</td>\n",
       "      <td>1.199988</td>\n",
       "    </tr>\n",
       "    <tr>\n",
       "      <th rowspan=\"3\" valign=\"top\">foo</th>\n",
       "      <th>one</th>\n",
       "      <td>-2.102451</td>\n",
       "      <td>3.391021</td>\n",
       "    </tr>\n",
       "    <tr>\n",
       "      <th>three</th>\n",
       "      <td>-0.645134</td>\n",
       "      <td>1.360630</td>\n",
       "    </tr>\n",
       "    <tr>\n",
       "      <th>two</th>\n",
       "      <td>-0.296457</td>\n",
       "      <td>-0.849537</td>\n",
       "    </tr>\n",
       "  </tbody>\n",
       "</table>\n",
       "</div>"
      ],
      "text/plain": [
       "                  C         D\n",
       "A   B                        \n",
       "bar one    0.826252  1.791680\n",
       "    three  0.064571 -0.161596\n",
       "    two   -0.746722  1.199988\n",
       "foo one   -2.102451  3.391021\n",
       "    three -0.645134  1.360630\n",
       "    two   -0.296457 -0.849537"
      ]
     },
     "execution_count": 18,
     "metadata": {},
     "output_type": "execute_result"
    }
   ],
   "source": [
    "df.groupby(['A', 'B']).sum()"
   ]
  },
  {
   "cell_type": "code",
   "execution_count": 19,
   "metadata": {
    "collapsed": false,
    "slideshow": {
     "slide_type": "slide"
    }
   },
   "outputs": [
    {
     "data": {
      "text/html": [
       "<div>\n",
       "<table border=\"1\" class=\"dataframe\">\n",
       "  <thead>\n",
       "    <tr style=\"text-align: right;\">\n",
       "      <th></th>\n",
       "      <th>AA</th>\n",
       "      <th>AAPL</th>\n",
       "      <th>GE</th>\n",
       "      <th>IBM</th>\n",
       "      <th>JNJ</th>\n",
       "      <th>MSFT</th>\n",
       "      <th>PEP</th>\n",
       "      <th>SPX</th>\n",
       "      <th>XOM</th>\n",
       "    </tr>\n",
       "  </thead>\n",
       "  <tbody>\n",
       "    <tr>\n",
       "      <th>2011-10-10</th>\n",
       "      <td>10.09</td>\n",
       "      <td>388.81</td>\n",
       "      <td>16.14</td>\n",
       "      <td>186.62</td>\n",
       "      <td>64.43</td>\n",
       "      <td>26.94</td>\n",
       "      <td>61.87</td>\n",
       "      <td>1194.89</td>\n",
       "      <td>76.28</td>\n",
       "    </tr>\n",
       "    <tr>\n",
       "      <th>2011-10-11</th>\n",
       "      <td>10.30</td>\n",
       "      <td>400.29</td>\n",
       "      <td>16.14</td>\n",
       "      <td>185.00</td>\n",
       "      <td>63.96</td>\n",
       "      <td>27.00</td>\n",
       "      <td>60.95</td>\n",
       "      <td>1195.54</td>\n",
       "      <td>76.27</td>\n",
       "    </tr>\n",
       "    <tr>\n",
       "      <th>2011-10-12</th>\n",
       "      <td>10.05</td>\n",
       "      <td>402.19</td>\n",
       "      <td>16.40</td>\n",
       "      <td>186.12</td>\n",
       "      <td>64.33</td>\n",
       "      <td>26.96</td>\n",
       "      <td>62.70</td>\n",
       "      <td>1207.25</td>\n",
       "      <td>77.16</td>\n",
       "    </tr>\n",
       "    <tr>\n",
       "      <th>2011-10-13</th>\n",
       "      <td>10.10</td>\n",
       "      <td>408.43</td>\n",
       "      <td>16.22</td>\n",
       "      <td>186.82</td>\n",
       "      <td>64.23</td>\n",
       "      <td>27.18</td>\n",
       "      <td>62.36</td>\n",
       "      <td>1203.66</td>\n",
       "      <td>76.37</td>\n",
       "    </tr>\n",
       "    <tr>\n",
       "      <th>2011-10-14</th>\n",
       "      <td>10.26</td>\n",
       "      <td>422.00</td>\n",
       "      <td>16.60</td>\n",
       "      <td>190.53</td>\n",
       "      <td>64.72</td>\n",
       "      <td>27.27</td>\n",
       "      <td>62.24</td>\n",
       "      <td>1224.58</td>\n",
       "      <td>78.11</td>\n",
       "    </tr>\n",
       "  </tbody>\n",
       "</table>\n",
       "</div>"
      ],
      "text/plain": [
       "               AA    AAPL     GE     IBM    JNJ   MSFT    PEP      SPX    XOM\n",
       "2011-10-10  10.09  388.81  16.14  186.62  64.43  26.94  61.87  1194.89  76.28\n",
       "2011-10-11  10.30  400.29  16.14  185.00  63.96  27.00  60.95  1195.54  76.27\n",
       "2011-10-12  10.05  402.19  16.40  186.12  64.33  26.96  62.70  1207.25  77.16\n",
       "2011-10-13  10.10  408.43  16.22  186.82  64.23  27.18  62.36  1203.66  76.37\n",
       "2011-10-14  10.26  422.00  16.60  190.53  64.72  27.27  62.24  1224.58  78.11"
      ]
     },
     "execution_count": 19,
     "metadata": {},
     "output_type": "execute_result"
    }
   ],
   "source": [
    "close_px = pd.read_pickle('close_px.pickle')\n",
    "close_px[-5:]"
   ]
  },
  {
   "cell_type": "code",
   "execution_count": 20,
   "metadata": {
    "collapsed": false,
    "slideshow": {
     "slide_type": "slide"
    }
   },
   "outputs": [
    {
     "data": {
      "text/html": [
       "<div>\n",
       "<table border=\"1\" class=\"dataframe\">\n",
       "  <thead>\n",
       "    <tr style=\"text-align: right;\">\n",
       "      <th></th>\n",
       "      <th>AAPL</th>\n",
       "      <th>IBM</th>\n",
       "      <th>MSFT</th>\n",
       "    </tr>\n",
       "  </thead>\n",
       "  <tbody>\n",
       "    <tr>\n",
       "      <th>2011-10-10</th>\n",
       "      <td>388.81</td>\n",
       "      <td>186.62</td>\n",
       "      <td>26.94</td>\n",
       "    </tr>\n",
       "    <tr>\n",
       "      <th>2011-10-11</th>\n",
       "      <td>400.29</td>\n",
       "      <td>185.00</td>\n",
       "      <td>27.00</td>\n",
       "    </tr>\n",
       "    <tr>\n",
       "      <th>2011-10-12</th>\n",
       "      <td>402.19</td>\n",
       "      <td>186.12</td>\n",
       "      <td>26.96</td>\n",
       "    </tr>\n",
       "    <tr>\n",
       "      <th>2011-10-13</th>\n",
       "      <td>408.43</td>\n",
       "      <td>186.82</td>\n",
       "      <td>27.18</td>\n",
       "    </tr>\n",
       "    <tr>\n",
       "      <th>2011-10-14</th>\n",
       "      <td>422.00</td>\n",
       "      <td>190.53</td>\n",
       "      <td>27.27</td>\n",
       "    </tr>\n",
       "  </tbody>\n",
       "</table>\n",
       "</div>"
      ],
      "text/plain": [
       "              AAPL     IBM   MSFT\n",
       "2011-10-10  388.81  186.62  26.94\n",
       "2011-10-11  400.29  185.00  27.00\n",
       "2011-10-12  402.19  186.12  26.96\n",
       "2011-10-13  408.43  186.82  27.18\n",
       "2011-10-14  422.00  190.53  27.27"
      ]
     },
     "execution_count": 20,
     "metadata": {},
     "output_type": "execute_result"
    }
   ],
   "source": [
    "df = close_px.ix[-5:, ['AAPL', 'IBM', 'MSFT']]\n",
    "df"
   ]
  },
  {
   "cell_type": "code",
   "execution_count": 21,
   "metadata": {
    "collapsed": false,
    "slideshow": {
     "slide_type": "slide"
    }
   },
   "outputs": [
    {
     "data": {
      "text/html": [
       "<div>\n",
       "<table border=\"1\" class=\"dataframe\">\n",
       "  <thead>\n",
       "    <tr style=\"text-align: right;\">\n",
       "      <th></th>\n",
       "      <th>AAPL</th>\n",
       "      <th>IBM</th>\n",
       "      <th>MSFT</th>\n",
       "      <th>Ratio</th>\n",
       "    </tr>\n",
       "  </thead>\n",
       "  <tbody>\n",
       "    <tr>\n",
       "      <th>2011-10-10</th>\n",
       "      <td>388.81</td>\n",
       "      <td>186.62</td>\n",
       "      <td>26.94</td>\n",
       "      <td>6.927246</td>\n",
       "    </tr>\n",
       "    <tr>\n",
       "      <th>2011-10-11</th>\n",
       "      <td>400.29</td>\n",
       "      <td>185.00</td>\n",
       "      <td>27.00</td>\n",
       "      <td>6.851852</td>\n",
       "    </tr>\n",
       "    <tr>\n",
       "      <th>2011-10-12</th>\n",
       "      <td>402.19</td>\n",
       "      <td>186.12</td>\n",
       "      <td>26.96</td>\n",
       "      <td>6.903561</td>\n",
       "    </tr>\n",
       "    <tr>\n",
       "      <th>2011-10-13</th>\n",
       "      <td>408.43</td>\n",
       "      <td>186.82</td>\n",
       "      <td>27.18</td>\n",
       "      <td>6.873436</td>\n",
       "    </tr>\n",
       "    <tr>\n",
       "      <th>2011-10-14</th>\n",
       "      <td>422.00</td>\n",
       "      <td>190.53</td>\n",
       "      <td>27.27</td>\n",
       "      <td>6.986799</td>\n",
       "    </tr>\n",
       "  </tbody>\n",
       "</table>\n",
       "</div>"
      ],
      "text/plain": [
       "              AAPL     IBM   MSFT     Ratio\n",
       "2011-10-10  388.81  186.62  26.94  6.927246\n",
       "2011-10-11  400.29  185.00  27.00  6.851852\n",
       "2011-10-12  402.19  186.12  26.96  6.903561\n",
       "2011-10-13  408.43  186.82  27.18  6.873436\n",
       "2011-10-14  422.00  190.53  27.27  6.986799"
      ]
     },
     "execution_count": 21,
     "metadata": {},
     "output_type": "execute_result"
    }
   ],
   "source": [
    "df['Ratio'] = df['IBM'] / df['MSFT']\n",
    "df"
   ]
  },
  {
   "cell_type": "code",
   "execution_count": 22,
   "metadata": {
    "collapsed": false,
    "slideshow": {
     "slide_type": "slide"
    }
   },
   "outputs": [
    {
     "data": {
      "text/html": [
       "<div>\n",
       "<table border=\"1\" class=\"dataframe\">\n",
       "  <thead>\n",
       "    <tr style=\"text-align: right;\">\n",
       "      <th></th>\n",
       "      <th>AAPL</th>\n",
       "      <th>IBM</th>\n",
       "      <th>MSFT</th>\n",
       "    </tr>\n",
       "  </thead>\n",
       "  <tbody>\n",
       "    <tr>\n",
       "      <th>2011-10-10</th>\n",
       "      <td>388.81</td>\n",
       "      <td>186.62</td>\n",
       "      <td>26.94</td>\n",
       "    </tr>\n",
       "    <tr>\n",
       "      <th>2011-10-11</th>\n",
       "      <td>400.29</td>\n",
       "      <td>185.00</td>\n",
       "      <td>27.00</td>\n",
       "    </tr>\n",
       "    <tr>\n",
       "      <th>2011-10-12</th>\n",
       "      <td>402.19</td>\n",
       "      <td>186.12</td>\n",
       "      <td>26.96</td>\n",
       "    </tr>\n",
       "    <tr>\n",
       "      <th>2011-10-13</th>\n",
       "      <td>408.43</td>\n",
       "      <td>186.82</td>\n",
       "      <td>27.18</td>\n",
       "    </tr>\n",
       "    <tr>\n",
       "      <th>2011-10-14</th>\n",
       "      <td>422.00</td>\n",
       "      <td>190.53</td>\n",
       "      <td>27.27</td>\n",
       "    </tr>\n",
       "  </tbody>\n",
       "</table>\n",
       "</div>"
      ],
      "text/plain": [
       "              AAPL     IBM   MSFT\n",
       "2011-10-10  388.81  186.62  26.94\n",
       "2011-10-11  400.29  185.00  27.00\n",
       "2011-10-12  402.19  186.12  26.96\n",
       "2011-10-13  408.43  186.82  27.18\n",
       "2011-10-14  422.00  190.53  27.27"
      ]
     },
     "execution_count": 22,
     "metadata": {},
     "output_type": "execute_result"
    }
   ],
   "source": [
    "del df['Ratio']\n",
    "df"
   ]
  },
  {
   "cell_type": "code",
   "execution_count": 23,
   "metadata": {
    "collapsed": false,
    "slideshow": {
     "slide_type": "fragment"
    }
   },
   "outputs": [
    {
     "data": {
      "text/plain": [
       "DatetimeIndex(['2011-10-10', '2011-10-11', '2011-10-12', '2011-10-13',\n",
       "               '2011-10-14'],\n",
       "              dtype='datetime64[ns]', freq=None, tz=None)"
      ]
     },
     "execution_count": 23,
     "metadata": {},
     "output_type": "execute_result"
    }
   ],
   "source": [
    "df.index"
   ]
  },
  {
   "cell_type": "code",
   "execution_count": 24,
   "metadata": {
    "collapsed": false,
    "slideshow": {
     "slide_type": "fragment"
    }
   },
   "outputs": [
    {
     "data": {
      "text/plain": [
       "Index([u'AAPL', u'IBM', u'MSFT'], dtype='object')"
      ]
     },
     "execution_count": 24,
     "metadata": {},
     "output_type": "execute_result"
    }
   ],
   "source": [
    "df.columns"
   ]
  },
  {
   "cell_type": "markdown",
   "metadata": {
    "slideshow": {
     "slide_type": "slide"
    }
   },
   "source": [
    "# 应用: 日收益率计算\n",
    "\n",
    "定义: \n",
    "$$ $$\n",
    "$$r_t = \\frac{p_t}{p_{t-1}} - 1$$"
   ]
  },
  {
   "cell_type": "code",
   "execution_count": 25,
   "metadata": {
    "collapsed": false,
    "slideshow": {
     "slide_type": "slide"
    }
   },
   "outputs": [
    {
     "data": {
      "text/plain": [
       "<matplotlib.axes._subplots.AxesSubplot at 0x107892310>"
      ]
     },
     "execution_count": 25,
     "metadata": {},
     "output_type": "execute_result"
    },
    {
     "data": {
      "image/png": "[encoded data removed]",
      "text/plain": [
       "<matplotlib.figure.Figure at 0x107892710>"
      ]
     },
     "metadata": {},
     "output_type": "display_data"
    }
   ],
   "source": [
    "rets = close_px / close_px.shift(1) - 1\n",
    "daily_index = (1 + rets).cumprod()\n",
    "daily_index['IBM'].plot()"
   ]
  },
  {
   "cell_type": "code",
   "execution_count": 26,
   "metadata": {
    "collapsed": false,
    "slideshow": {
     "slide_type": "slide"
    }
   },
   "outputs": [
    {
     "data": {
      "text/html": [
       "<div>\n",
       "<table border=\"1\" class=\"dataframe\">\n",
       "  <thead>\n",
       "    <tr style=\"text-align: right;\">\n",
       "      <th></th>\n",
       "      <th>AA</th>\n",
       "      <th>AAPL</th>\n",
       "      <th>GE</th>\n",
       "      <th>IBM</th>\n",
       "      <th>JNJ</th>\n",
       "      <th>MSFT</th>\n",
       "      <th>PEP</th>\n",
       "      <th>SPX</th>\n",
       "      <th>XOM</th>\n",
       "    </tr>\n",
       "  </thead>\n",
       "  <tbody>\n",
       "    <tr>\n",
       "      <th>1990-12-31</th>\n",
       "      <td>0.963855</td>\n",
       "      <td>1.293893</td>\n",
       "      <td>0.958188</td>\n",
       "      <td>1.210244</td>\n",
       "      <td>1.374707</td>\n",
       "      <td>1.607843</td>\n",
       "      <td>1.359272</td>\n",
       "      <td>1.004349</td>\n",
       "      <td>1.158497</td>\n",
       "    </tr>\n",
       "    <tr>\n",
       "      <th>1991-01-31</th>\n",
       "      <td>1.086345</td>\n",
       "      <td>1.669211</td>\n",
       "      <td>1.069686</td>\n",
       "      <td>1.357356</td>\n",
       "      <td>1.463700</td>\n",
       "      <td>2.098039</td>\n",
       "      <td>1.438742</td>\n",
       "      <td>1.046048</td>\n",
       "      <td>1.155229</td>\n",
       "    </tr>\n",
       "    <tr>\n",
       "      <th>1991-02-28</th>\n",
       "      <td>1.082329</td>\n",
       "      <td>1.726463</td>\n",
       "      <td>1.142857</td>\n",
       "      <td>1.391900</td>\n",
       "      <td>1.578454</td>\n",
       "      <td>2.215686</td>\n",
       "      <td>1.713576</td>\n",
       "      <td>1.116427</td>\n",
       "      <td>1.250000</td>\n",
       "    </tr>\n",
       "    <tr>\n",
       "      <th>1991-03-29</th>\n",
       "      <td>NaN</td>\n",
       "      <td>NaN</td>\n",
       "      <td>NaN</td>\n",
       "      <td>NaN</td>\n",
       "      <td>NaN</td>\n",
       "      <td>NaN</td>\n",
       "      <td>NaN</td>\n",
       "      <td>NaN</td>\n",
       "      <td>NaN</td>\n",
       "    </tr>\n",
       "    <tr>\n",
       "      <th>1991-04-30</th>\n",
       "      <td>1.146586</td>\n",
       "      <td>1.657761</td>\n",
       "      <td>1.191638</td>\n",
       "      <td>1.113758</td>\n",
       "      <td>1.817330</td>\n",
       "      <td>2.117647</td>\n",
       "      <td>1.672185</td>\n",
       "      <td>1.141580</td>\n",
       "      <td>1.349673</td>\n",
       "    </tr>\n",
       "    <tr>\n",
       "      <th>1991-05-31</th>\n",
       "      <td>1.208835</td>\n",
       "      <td>1.421120</td>\n",
       "      <td>1.310105</td>\n",
       "      <td>1.160810</td>\n",
       "      <td>1.749415</td>\n",
       "      <td>2.352941</td>\n",
       "      <td>1.645695</td>\n",
       "      <td>1.185650</td>\n",
       "      <td>1.336601</td>\n",
       "    </tr>\n",
       "    <tr>\n",
       "      <th>1991-06-28</th>\n",
       "      <td>1.146586</td>\n",
       "      <td>1.254453</td>\n",
       "      <td>1.254355</td>\n",
       "      <td>1.062537</td>\n",
       "      <td>1.613583</td>\n",
       "      <td>2.196078</td>\n",
       "      <td>1.528146</td>\n",
       "      <td>1.128866</td>\n",
       "      <td>1.333333</td>\n",
       "    </tr>\n",
       "    <tr>\n",
       "      <th>1991-07-31</th>\n",
       "      <td>1.206827</td>\n",
       "      <td>1.398219</td>\n",
       "      <td>1.240418</td>\n",
       "      <td>1.107802</td>\n",
       "      <td>1.768150</td>\n",
       "      <td>2.352941</td>\n",
       "      <td>1.678808</td>\n",
       "      <td>1.179507</td>\n",
       "      <td>1.362745</td>\n",
       "    </tr>\n",
       "  </tbody>\n",
       "</table>\n",
       "</div>"
      ],
      "text/plain": [
       "                  AA      AAPL        GE       IBM       JNJ      MSFT  \\\n",
       "1990-12-31  0.963855  1.293893  0.958188  1.210244  1.374707  1.607843   \n",
       "1991-01-31  1.086345  1.669211  1.069686  1.357356  1.463700  2.098039   \n",
       "1991-02-28  1.082329  1.726463  1.142857  1.391900  1.578454  2.215686   \n",
       "1991-03-29       NaN       NaN       NaN       NaN       NaN       NaN   \n",
       "1991-04-30  1.146586  1.657761  1.191638  1.113758  1.817330  2.117647   \n",
       "1991-05-31  1.208835  1.421120  1.310105  1.160810  1.749415  2.352941   \n",
       "1991-06-28  1.146586  1.254453  1.254355  1.062537  1.613583  2.196078   \n",
       "1991-07-31  1.206827  1.398219  1.240418  1.107802  1.768150  2.352941   \n",
       "\n",
       "                 PEP       SPX       XOM  \n",
       "1990-12-31  1.359272  1.004349  1.158497  \n",
       "1991-01-31  1.438742  1.046048  1.155229  \n",
       "1991-02-28  1.713576  1.116427  1.250000  \n",
       "1991-03-29       NaN       NaN       NaN  \n",
       "1991-04-30  1.672185  1.141580  1.349673  \n",
       "1991-05-31  1.645695  1.185650  1.336601  \n",
       "1991-06-28  1.528146  1.128866  1.333333  \n",
       "1991-07-31  1.678808  1.179507  1.362745  "
      ]
     },
     "execution_count": 26,
     "metadata": {},
     "output_type": "execute_result"
    }
   ],
   "source": [
    "monthly_index = daily_index.asfreq('EOM')\n",
    "monthly_index[10:18]"
   ]
  },
  {
   "cell_type": "code",
   "execution_count": 27,
   "metadata": {
    "collapsed": false,
    "slideshow": {
     "slide_type": "slide"
    }
   },
   "outputs": [
    {
     "data": {
      "text/html": [
       "<div>\n",
       "<table border=\"1\" class=\"dataframe\">\n",
       "  <thead>\n",
       "    <tr style=\"text-align: right;\">\n",
       "      <th></th>\n",
       "      <th>AA</th>\n",
       "      <th>AAPL</th>\n",
       "      <th>GE</th>\n",
       "      <th>IBM</th>\n",
       "      <th>JNJ</th>\n",
       "      <th>MSFT</th>\n",
       "      <th>PEP</th>\n",
       "      <th>SPX</th>\n",
       "      <th>XOM</th>\n",
       "    </tr>\n",
       "  </thead>\n",
       "  <tbody>\n",
       "    <tr>\n",
       "      <th>1990-12-31</th>\n",
       "      <td>0.963855</td>\n",
       "      <td>1.293893</td>\n",
       "      <td>0.958188</td>\n",
       "      <td>1.210244</td>\n",
       "      <td>1.374707</td>\n",
       "      <td>1.607843</td>\n",
       "      <td>1.359272</td>\n",
       "      <td>1.004349</td>\n",
       "      <td>1.158497</td>\n",
       "    </tr>\n",
       "    <tr>\n",
       "      <th>1991-01-31</th>\n",
       "      <td>1.086345</td>\n",
       "      <td>1.669211</td>\n",
       "      <td>1.069686</td>\n",
       "      <td>1.357356</td>\n",
       "      <td>1.463700</td>\n",
       "      <td>2.098039</td>\n",
       "      <td>1.438742</td>\n",
       "      <td>1.046048</td>\n",
       "      <td>1.155229</td>\n",
       "    </tr>\n",
       "    <tr>\n",
       "      <th>1991-02-28</th>\n",
       "      <td>1.082329</td>\n",
       "      <td>1.726463</td>\n",
       "      <td>1.142857</td>\n",
       "      <td>1.391900</td>\n",
       "      <td>1.578454</td>\n",
       "      <td>2.215686</td>\n",
       "      <td>1.713576</td>\n",
       "      <td>1.116427</td>\n",
       "      <td>1.250000</td>\n",
       "    </tr>\n",
       "    <tr>\n",
       "      <th>1991-03-29</th>\n",
       "      <td>1.106426</td>\n",
       "      <td>2.049618</td>\n",
       "      <td>1.170732</td>\n",
       "      <td>1.231090</td>\n",
       "      <td>1.843091</td>\n",
       "      <td>2.274510</td>\n",
       "      <td>1.796358</td>\n",
       "      <td>1.141215</td>\n",
       "      <td>1.326797</td>\n",
       "    </tr>\n",
       "    <tr>\n",
       "      <th>1991-04-30</th>\n",
       "      <td>1.146586</td>\n",
       "      <td>1.657761</td>\n",
       "      <td>1.191638</td>\n",
       "      <td>1.113758</td>\n",
       "      <td>1.817330</td>\n",
       "      <td>2.117647</td>\n",
       "      <td>1.672185</td>\n",
       "      <td>1.141580</td>\n",
       "      <td>1.349673</td>\n",
       "    </tr>\n",
       "    <tr>\n",
       "      <th>1991-05-31</th>\n",
       "      <td>1.208835</td>\n",
       "      <td>1.421120</td>\n",
       "      <td>1.310105</td>\n",
       "      <td>1.160810</td>\n",
       "      <td>1.749415</td>\n",
       "      <td>2.352941</td>\n",
       "      <td>1.645695</td>\n",
       "      <td>1.185650</td>\n",
       "      <td>1.336601</td>\n",
       "    </tr>\n",
       "    <tr>\n",
       "      <th>1991-06-28</th>\n",
       "      <td>1.146586</td>\n",
       "      <td>1.254453</td>\n",
       "      <td>1.254355</td>\n",
       "      <td>1.062537</td>\n",
       "      <td>1.613583</td>\n",
       "      <td>2.196078</td>\n",
       "      <td>1.528146</td>\n",
       "      <td>1.128866</td>\n",
       "      <td>1.333333</td>\n",
       "    </tr>\n",
       "    <tr>\n",
       "      <th>1991-07-31</th>\n",
       "      <td>1.206827</td>\n",
       "      <td>1.398219</td>\n",
       "      <td>1.240418</td>\n",
       "      <td>1.107802</td>\n",
       "      <td>1.768150</td>\n",
       "      <td>2.352941</td>\n",
       "      <td>1.678808</td>\n",
       "      <td>1.179507</td>\n",
       "      <td>1.362745</td>\n",
       "    </tr>\n",
       "  </tbody>\n",
       "</table>\n",
       "</div>"
      ],
      "text/plain": [
       "                  AA      AAPL        GE       IBM       JNJ      MSFT  \\\n",
       "1990-12-31  0.963855  1.293893  0.958188  1.210244  1.374707  1.607843   \n",
       "1991-01-31  1.086345  1.669211  1.069686  1.357356  1.463700  2.098039   \n",
       "1991-02-28  1.082329  1.726463  1.142857  1.391900  1.578454  2.215686   \n",
       "1991-03-29  1.106426  2.049618  1.170732  1.231090  1.843091  2.274510   \n",
       "1991-04-30  1.146586  1.657761  1.191638  1.113758  1.817330  2.117647   \n",
       "1991-05-31  1.208835  1.421120  1.310105  1.160810  1.749415  2.352941   \n",
       "1991-06-28  1.146586  1.254453  1.254355  1.062537  1.613583  2.196078   \n",
       "1991-07-31  1.206827  1.398219  1.240418  1.107802  1.768150  2.352941   \n",
       "\n",
       "                 PEP       SPX       XOM  \n",
       "1990-12-31  1.359272  1.004349  1.158497  \n",
       "1991-01-31  1.438742  1.046048  1.155229  \n",
       "1991-02-28  1.713576  1.116427  1.250000  \n",
       "1991-03-29  1.796358  1.141215  1.326797  \n",
       "1991-04-30  1.672185  1.141580  1.349673  \n",
       "1991-05-31  1.645695  1.185650  1.336601  \n",
       "1991-06-28  1.528146  1.128866  1.333333  \n",
       "1991-07-31  1.678808  1.179507  1.362745  "
      ]
     },
     "execution_count": 27,
     "metadata": {},
     "output_type": "execute_result"
    }
   ],
   "source": [
    "# oops, careful about those NAs!\n",
    "monthly_index = daily_index.asfreq('EOM', method='ffill')\n",
    "monthly_index[10:18]"
   ]
  },
  {
   "cell_type": "markdown",
   "metadata": {
    "slideshow": {
     "slide_type": "slide"
    }
   },
   "source": [
    "# 移动平均线"
   ]
  },
  {
   "cell_type": "code",
   "execution_count": 28,
   "metadata": {
    "collapsed": false,
    "slideshow": {
     "slide_type": "fragment"
    }
   },
   "outputs": [
    {
     "data": {
      "text/plain": [
       "<matplotlib.axes._subplots.AxesSubplot at 0x10796d1d0>"
      ]
     },
     "execution_count": 28,
     "metadata": {},
     "output_type": "execute_result"
    },
    {
     "data": {
      "image/png": "[encoded data removed]",
      "text/plain": [
       "<matplotlib.figure.Figure at 0x107b28fd0>"
      ]
     },
     "metadata": {},
     "output_type": "display_data"
    }
   ],
   "source": [
    "px = close_px['AAPL']\n",
    "px.plot()"
   ]
  },
  {
   "cell_type": "code",
   "execution_count": 29,
   "metadata": {
    "collapsed": false,
    "slideshow": {
     "slide_type": "slide"
    }
   },
   "outputs": [
    {
     "data": {
      "text/plain": [
       "(0, 100)"
      ]
     },
     "execution_count": 29,
     "metadata": {},
     "output_type": "execute_result"
    },
    {
     "data": {
      "image/png": "[encoded data removed]",
      "text/plain": [
       "<matplotlib.figure.Figure at 0x107c24fd0>"
      ]
     },
     "metadata": {},
     "output_type": "display_data"
    }
   ],
   "source": [
    "px.plot()\n",
    "pd.rolling_mean(px, 60, min_periods=50).plot()\n",
    "plt.xlim([pd.datetime(2004, 1, 1), pd.datetime(2006, 1, 1)])\n",
    "plt.ylim([0, 100])"
   ]
  },
  {
   "cell_type": "code",
   "execution_count": 30,
   "metadata": {
    "collapsed": false,
    "slideshow": {
     "slide_type": "slide"
    }
   },
   "outputs": [
    {
     "data": {
      "text/html": [
       "<div>\n",
       "<table border=\"1\" class=\"dataframe\">\n",
       "  <thead>\n",
       "    <tr style=\"text-align: right;\">\n",
       "      <th></th>\n",
       "      <th>AA</th>\n",
       "      <th>AAPL</th>\n",
       "      <th>GE</th>\n",
       "      <th>IBM</th>\n",
       "      <th>JNJ</th>\n",
       "      <th>MSFT</th>\n",
       "      <th>PEP</th>\n",
       "      <th>XOM</th>\n",
       "    </tr>\n",
       "  </thead>\n",
       "  <tbody>\n",
       "    <tr>\n",
       "      <th>2011-10-10</th>\n",
       "      <td>0.039135</td>\n",
       "      <td>0.051406</td>\n",
       "      <td>0.041290</td>\n",
       "      <td>0.023192</td>\n",
       "      <td>0.020592</td>\n",
       "      <td>0.026286</td>\n",
       "      <td>0.013930</td>\n",
       "      <td>0.036977</td>\n",
       "    </tr>\n",
       "    <tr>\n",
       "      <th>2011-10-11</th>\n",
       "      <td>0.020813</td>\n",
       "      <td>0.029526</td>\n",
       "      <td>0.000000</td>\n",
       "      <td>-0.008681</td>\n",
       "      <td>-0.007295</td>\n",
       "      <td>0.002227</td>\n",
       "      <td>-0.014870</td>\n",
       "      <td>-0.000131</td>\n",
       "    </tr>\n",
       "    <tr>\n",
       "      <th>2011-10-12</th>\n",
       "      <td>-0.024272</td>\n",
       "      <td>0.004747</td>\n",
       "      <td>0.016109</td>\n",
       "      <td>0.006054</td>\n",
       "      <td>0.005785</td>\n",
       "      <td>-0.001481</td>\n",
       "      <td>0.028712</td>\n",
       "      <td>0.011669</td>\n",
       "    </tr>\n",
       "    <tr>\n",
       "      <th>2011-10-13</th>\n",
       "      <td>0.004975</td>\n",
       "      <td>0.015515</td>\n",
       "      <td>-0.010976</td>\n",
       "      <td>0.003761</td>\n",
       "      <td>-0.001554</td>\n",
       "      <td>0.008160</td>\n",
       "      <td>-0.005423</td>\n",
       "      <td>-0.010238</td>\n",
       "    </tr>\n",
       "    <tr>\n",
       "      <th>2011-10-14</th>\n",
       "      <td>0.015842</td>\n",
       "      <td>0.033225</td>\n",
       "      <td>0.023428</td>\n",
       "      <td>0.019859</td>\n",
       "      <td>0.007629</td>\n",
       "      <td>0.003311</td>\n",
       "      <td>-0.001924</td>\n",
       "      <td>0.022784</td>\n",
       "    </tr>\n",
       "  </tbody>\n",
       "</table>\n",
       "</div>"
      ],
      "text/plain": [
       "                  AA      AAPL        GE       IBM       JNJ      MSFT  \\\n",
       "2011-10-10  0.039135  0.051406  0.041290  0.023192  0.020592  0.026286   \n",
       "2011-10-11  0.020813  0.029526  0.000000 -0.008681 -0.007295  0.002227   \n",
       "2011-10-12 -0.024272  0.004747  0.016109  0.006054  0.005785 -0.001481   \n",
       "2011-10-13  0.004975  0.015515 -0.010976  0.003761 -0.001554  0.008160   \n",
       "2011-10-14  0.015842  0.033225  0.023428  0.019859  0.007629  0.003311   \n",
       "\n",
       "                 PEP       XOM  \n",
       "2011-10-10  0.013930  0.036977  \n",
       "2011-10-11 -0.014870 -0.000131  \n",
       "2011-10-12  0.028712  0.011669  \n",
       "2011-10-13 -0.005423 -0.010238  \n",
       "2011-10-14 -0.001924  0.022784  "
      ]
     },
     "execution_count": 30,
     "metadata": {},
     "output_type": "execute_result"
    }
   ],
   "source": [
    "# only run the analysis since 2000\n",
    "px = close_px.ix[pd.datetime(2000, 1, 1):]\n",
    "rets = px / px.shift(1) - 1\n",
    "\n",
    "# rets = rets.drop(['AAPL'], axis=1)\n",
    "\n",
    "annualizer = np.sqrt(250)\n",
    "bmk = rets.pop('SPX') # benchmark\n",
    "\n",
    "rets[-5:]"
   ]
  },
  {
   "cell_type": "code",
   "execution_count": 31,
   "metadata": {
    "collapsed": false,
    "slideshow": {
     "slide_type": "slide"
    }
   },
   "outputs": [],
   "source": [
    "tickers = rets.columns\n",
    "weights = pd.Series(1. / len(tickers), index=tickers)\n",
    "weights\n",
    "\n",
    "# Some helper functions\n",
    "def plot_returns(port_returns, bmk_returns):\n",
    "    plt.figure()\n",
    "    cum_port = ((1 + port_returns).cumprod() - 1)\n",
    "    cum_bmk = ((1 + bmk_returns).cumprod() - 1)\n",
    "    # cum_port = port_returns.cumsum()\n",
    "    # cum_bmk = bmk_returns.cumsum()\n",
    "    \n",
    "    cum_port.plot(label='Portfolio returns')\n",
    "    cum_bmk.plot(label='Benchmark')\n",
    "    plt.title('Portfolio performance')\n",
    "    plt.legend(loc='best')\n",
    "\n",
    "def calc_te(weights, univ_rets, track_rets):\n",
    "    port_rets = (univ_rets * weights).sum(1)\n",
    "    return (port_rets - track_rets).std()\n"
   ]
  },
  {
   "cell_type": "code",
   "execution_count": 32,
   "metadata": {
    "collapsed": false,
    "slideshow": {
     "slide_type": "slide"
    }
   },
   "outputs": [
    {
     "data": {
      "text/plain": [
       "AA      0.085665\n",
       "AAPL    0.059990\n",
       "GE      0.182695\n",
       "IBM     0.125072\n",
       "JNJ     0.096287\n",
       "MSFT    0.128573\n",
       "PEP     0.078985\n",
       "XOM     0.151286\n",
       "dtype: float64"
      ]
     },
     "execution_count": 32,
     "metadata": {},
     "output_type": "execute_result"
    }
   ],
   "source": [
    "# brute force solver\n",
    "def get_opt_holdings_opt(univ_rets, track_rets):\n",
    "    import scipy.optimize as opt\n",
    "    K = len(univ_rets.columns)\n",
    "    init_weights = np.ones(K) / K\n",
    "    result = opt.fmin_l_bfgs_b(calc_te, init_weights,\n",
    "                               args=(univ_rets.values,\n",
    "                                     track_rets.values),\n",
    "                               approx_grad=True, factr=1e7, pgtol=1e-7)\n",
    "    return pd.Series(result[0], index=univ_rets.columns)\n",
    "\n",
    "\n",
    "clean_rets = rets.fillna(0)\n",
    "clean_bmk = bmk.fillna(0)\n",
    "\n",
    "opt_weights = get_opt_holdings_opt(clean_rets, clean_bmk)\n",
    "opt_weights"
   ]
  },
  {
   "cell_type": "code",
   "execution_count": 38,
   "metadata": {
    "collapsed": false,
    "slideshow": {
     "slide_type": "slide"
    }
   },
   "outputs": [
    {
     "data": {
      "text/html": [
       "<div>\n",
       "<table border=\"1\" class=\"dataframe\">\n",
       "  <thead>\n",
       "    <tr style=\"text-align: right;\">\n",
       "      <th></th>\n",
       "      <th>AA</th>\n",
       "      <th>AAPL</th>\n",
       "      <th>GE</th>\n",
       "      <th>IBM</th>\n",
       "      <th>JNJ</th>\n",
       "      <th>MSFT</th>\n",
       "      <th>PEP</th>\n",
       "      <th>XOM</th>\n",
       "    </tr>\n",
       "  </thead>\n",
       "  <tbody>\n",
       "    <tr>\n",
       "      <th>2000-05-25</th>\n",
       "      <td>0.065235</td>\n",
       "      <td>0.085536</td>\n",
       "      <td>0.266469</td>\n",
       "      <td>0.141680</td>\n",
       "      <td>0.096941</td>\n",
       "      <td>0.119851</td>\n",
       "      <td>0.029147</td>\n",
       "      <td>0.051542</td>\n",
       "    </tr>\n",
       "    <tr>\n",
       "      <th>2000-05-26</th>\n",
       "      <td>0.064837</td>\n",
       "      <td>0.085826</td>\n",
       "      <td>0.267593</td>\n",
       "      <td>0.140545</td>\n",
       "      <td>0.097038</td>\n",
       "      <td>0.118427</td>\n",
       "      <td>0.027764</td>\n",
       "      <td>0.050972</td>\n",
       "    </tr>\n",
       "    <tr>\n",
       "      <th>2000-05-30</th>\n",
       "      <td>0.060039</td>\n",
       "      <td>0.086177</td>\n",
       "      <td>0.264837</td>\n",
       "      <td>0.142174</td>\n",
       "      <td>0.094203</td>\n",
       "      <td>0.119263</td>\n",
       "      <td>0.034181</td>\n",
       "      <td>0.053691</td>\n",
       "    </tr>\n",
       "    <tr>\n",
       "      <th>2000-05-31</th>\n",
       "      <td>0.060046</td>\n",
       "      <td>0.084790</td>\n",
       "      <td>0.269072</td>\n",
       "      <td>0.146778</td>\n",
       "      <td>0.094402</td>\n",
       "      <td>0.121191</td>\n",
       "      <td>0.031860</td>\n",
       "      <td>0.055460</td>\n",
       "    </tr>\n",
       "    <tr>\n",
       "      <th>2000-06-01</th>\n",
       "      <td>0.060094</td>\n",
       "      <td>0.084736</td>\n",
       "      <td>0.269166</td>\n",
       "      <td>0.146722</td>\n",
       "      <td>0.094452</td>\n",
       "      <td>0.121209</td>\n",
       "      <td>0.031784</td>\n",
       "      <td>0.055405</td>\n",
       "    </tr>\n",
       "    <tr>\n",
       "      <th>2000-06-02</th>\n",
       "      <td>0.059618</td>\n",
       "      <td>0.089974</td>\n",
       "      <td>0.266128</td>\n",
       "      <td>0.142952</td>\n",
       "      <td>0.089774</td>\n",
       "      <td>0.123846</td>\n",
       "      <td>0.030354</td>\n",
       "      <td>0.055781</td>\n",
       "    </tr>\n",
       "    <tr>\n",
       "      <th>2000-06-05</th>\n",
       "      <td>0.067653</td>\n",
       "      <td>0.091146</td>\n",
       "      <td>0.263937</td>\n",
       "      <td>0.144436</td>\n",
       "      <td>0.085848</td>\n",
       "      <td>0.125224</td>\n",
       "      <td>0.032503</td>\n",
       "      <td>0.048051</td>\n",
       "    </tr>\n",
       "    <tr>\n",
       "      <th>2000-06-06</th>\n",
       "      <td>0.068033</td>\n",
       "      <td>0.091742</td>\n",
       "      <td>0.266060</td>\n",
       "      <td>0.141226</td>\n",
       "      <td>0.085104</td>\n",
       "      <td>0.124537</td>\n",
       "      <td>0.034528</td>\n",
       "      <td>0.047436</td>\n",
       "    </tr>\n",
       "    <tr>\n",
       "      <th>2000-06-07</th>\n",
       "      <td>0.069427</td>\n",
       "      <td>0.090095</td>\n",
       "      <td>0.273135</td>\n",
       "      <td>0.142250</td>\n",
       "      <td>0.088627</td>\n",
       "      <td>0.118899</td>\n",
       "      <td>0.020842</td>\n",
       "      <td>0.038994</td>\n",
       "    </tr>\n",
       "    <tr>\n",
       "      <th>2000-06-08</th>\n",
       "      <td>0.071354</td>\n",
       "      <td>0.089520</td>\n",
       "      <td>0.274226</td>\n",
       "      <td>0.135911</td>\n",
       "      <td>0.090030</td>\n",
       "      <td>0.118799</td>\n",
       "      <td>0.018621</td>\n",
       "      <td>0.039706</td>\n",
       "    </tr>\n",
       "    <tr>\n",
       "      <th>2000-06-09</th>\n",
       "      <td>0.071219</td>\n",
       "      <td>0.089504</td>\n",
       "      <td>0.274017</td>\n",
       "      <td>0.135768</td>\n",
       "      <td>0.090212</td>\n",
       "      <td>0.118747</td>\n",
       "      <td>0.019302</td>\n",
       "      <td>0.039352</td>\n",
       "    </tr>\n",
       "    <tr>\n",
       "      <th>2000-06-12</th>\n",
       "      <td>0.071208</td>\n",
       "      <td>0.089581</td>\n",
       "      <td>0.273397</td>\n",
       "      <td>0.135803</td>\n",
       "      <td>0.091104</td>\n",
       "      <td>0.118814</td>\n",
       "      <td>0.018115</td>\n",
       "      <td>0.039102</td>\n",
       "    </tr>\n",
       "    <tr>\n",
       "      <th>2000-06-13</th>\n",
       "      <td>0.071016</td>\n",
       "      <td>0.089413</td>\n",
       "      <td>0.273584</td>\n",
       "      <td>0.135804</td>\n",
       "      <td>0.090720</td>\n",
       "      <td>0.118709</td>\n",
       "      <td>0.018479</td>\n",
       "      <td>0.039477</td>\n",
       "    </tr>\n",
       "    <tr>\n",
       "      <th>2000-06-14</th>\n",
       "      <td>0.070882</td>\n",
       "      <td>0.089441</td>\n",
       "      <td>0.273695</td>\n",
       "      <td>0.135779</td>\n",
       "      <td>0.090854</td>\n",
       "      <td>0.118734</td>\n",
       "      <td>0.018580</td>\n",
       "      <td>0.039484</td>\n",
       "    </tr>\n",
       "    <tr>\n",
       "      <th>2000-06-15</th>\n",
       "      <td>0.068614</td>\n",
       "      <td>0.090180</td>\n",
       "      <td>0.274708</td>\n",
       "      <td>0.137010</td>\n",
       "      <td>0.089557</td>\n",
       "      <td>0.117389</td>\n",
       "      <td>0.018460</td>\n",
       "      <td>0.039818</td>\n",
       "    </tr>\n",
       "    <tr>\n",
       "      <th>2000-06-16</th>\n",
       "      <td>0.066414</td>\n",
       "      <td>0.090239</td>\n",
       "      <td>0.273782</td>\n",
       "      <td>0.137166</td>\n",
       "      <td>0.088243</td>\n",
       "      <td>0.116040</td>\n",
       "      <td>0.020222</td>\n",
       "      <td>0.041056</td>\n",
       "    </tr>\n",
       "    <tr>\n",
       "      <th>2000-06-19</th>\n",
       "      <td>0.066056</td>\n",
       "      <td>0.090118</td>\n",
       "      <td>0.274392</td>\n",
       "      <td>0.137957</td>\n",
       "      <td>0.088626</td>\n",
       "      <td>0.115853</td>\n",
       "      <td>0.019813</td>\n",
       "      <td>0.040341</td>\n",
       "    </tr>\n",
       "    <tr>\n",
       "      <th>2000-06-20</th>\n",
       "      <td>0.064735</td>\n",
       "      <td>0.091193</td>\n",
       "      <td>0.271802</td>\n",
       "      <td>0.141578</td>\n",
       "      <td>0.088790</td>\n",
       "      <td>0.115994</td>\n",
       "      <td>0.020391</td>\n",
       "      <td>0.040894</td>\n",
       "    </tr>\n",
       "    <tr>\n",
       "      <th>2000-06-21</th>\n",
       "      <td>0.063137</td>\n",
       "      <td>0.089644</td>\n",
       "      <td>0.267829</td>\n",
       "      <td>0.146209</td>\n",
       "      <td>0.088958</td>\n",
       "      <td>0.116221</td>\n",
       "      <td>0.031227</td>\n",
       "      <td>0.041232</td>\n",
       "    </tr>\n",
       "    <tr>\n",
       "      <th>2000-06-22</th>\n",
       "      <td>0.065020</td>\n",
       "      <td>0.087365</td>\n",
       "      <td>0.272107</td>\n",
       "      <td>0.147721</td>\n",
       "      <td>0.088784</td>\n",
       "      <td>0.113886</td>\n",
       "      <td>0.027006</td>\n",
       "      <td>0.040478</td>\n",
       "    </tr>\n",
       "    <tr>\n",
       "      <th>2000-06-23</th>\n",
       "      <td>0.063278</td>\n",
       "      <td>0.087986</td>\n",
       "      <td>0.272946</td>\n",
       "      <td>0.149180</td>\n",
       "      <td>0.088918</td>\n",
       "      <td>0.113592</td>\n",
       "      <td>0.027623</td>\n",
       "      <td>0.042437</td>\n",
       "    </tr>\n",
       "    <tr>\n",
       "      <th>2000-06-26</th>\n",
       "      <td>0.059146</td>\n",
       "      <td>0.090104</td>\n",
       "      <td>0.269137</td>\n",
       "      <td>0.149342</td>\n",
       "      <td>0.086249</td>\n",
       "      <td>0.115013</td>\n",
       "      <td>0.030423</td>\n",
       "      <td>0.043458</td>\n",
       "    </tr>\n",
       "    <tr>\n",
       "      <th>2000-06-27</th>\n",
       "      <td>0.061393</td>\n",
       "      <td>0.089622</td>\n",
       "      <td>0.270317</td>\n",
       "      <td>0.148458</td>\n",
       "      <td>0.082736</td>\n",
       "      <td>0.114355</td>\n",
       "      <td>0.027807</td>\n",
       "      <td>0.043767</td>\n",
       "    </tr>\n",
       "    <tr>\n",
       "      <th>2000-06-28</th>\n",
       "      <td>0.065706</td>\n",
       "      <td>0.088549</td>\n",
       "      <td>0.268070</td>\n",
       "      <td>0.144951</td>\n",
       "      <td>0.087397</td>\n",
       "      <td>0.115145</td>\n",
       "      <td>0.026156</td>\n",
       "      <td>0.039839</td>\n",
       "    </tr>\n",
       "    <tr>\n",
       "      <th>2000-06-29</th>\n",
       "      <td>0.067803</td>\n",
       "      <td>0.086508</td>\n",
       "      <td>0.263586</td>\n",
       "      <td>0.140376</td>\n",
       "      <td>0.089188</td>\n",
       "      <td>0.116994</td>\n",
       "      <td>0.027174</td>\n",
       "      <td>0.038681</td>\n",
       "    </tr>\n",
       "    <tr>\n",
       "      <th>2000-06-30</th>\n",
       "      <td>0.067137</td>\n",
       "      <td>0.085146</td>\n",
       "      <td>0.263450</td>\n",
       "      <td>0.141125</td>\n",
       "      <td>0.090293</td>\n",
       "      <td>0.117093</td>\n",
       "      <td>0.025550</td>\n",
       "      <td>0.038045</td>\n",
       "    </tr>\n",
       "    <tr>\n",
       "      <th>2000-07-03</th>\n",
       "      <td>0.068652</td>\n",
       "      <td>0.086209</td>\n",
       "      <td>0.252461</td>\n",
       "      <td>0.148969</td>\n",
       "      <td>0.087894</td>\n",
       "      <td>0.114315</td>\n",
       "      <td>0.018830</td>\n",
       "      <td>0.047283</td>\n",
       "    </tr>\n",
       "    <tr>\n",
       "      <th>2000-07-05</th>\n",
       "      <td>0.073487</td>\n",
       "      <td>0.087937</td>\n",
       "      <td>0.248006</td>\n",
       "      <td>0.149086</td>\n",
       "      <td>0.089118</td>\n",
       "      <td>0.113856</td>\n",
       "      <td>0.011198</td>\n",
       "      <td>0.050113</td>\n",
       "    </tr>\n",
       "    <tr>\n",
       "      <th>2000-07-06</th>\n",
       "      <td>0.074415</td>\n",
       "      <td>0.087941</td>\n",
       "      <td>0.244857</td>\n",
       "      <td>0.146711</td>\n",
       "      <td>0.090006</td>\n",
       "      <td>0.114036</td>\n",
       "      <td>0.013063</td>\n",
       "      <td>0.046539</td>\n",
       "    </tr>\n",
       "    <tr>\n",
       "      <th>2000-07-07</th>\n",
       "      <td>0.072072</td>\n",
       "      <td>0.087855</td>\n",
       "      <td>0.246278</td>\n",
       "      <td>0.143248</td>\n",
       "      <td>0.087281</td>\n",
       "      <td>0.116069</td>\n",
       "      <td>0.015487</td>\n",
       "      <td>0.049013</td>\n",
       "    </tr>\n",
       "    <tr>\n",
       "      <th>...</th>\n",
       "      <td>...</td>\n",
       "      <td>...</td>\n",
       "      <td>...</td>\n",
       "      <td>...</td>\n",
       "      <td>...</td>\n",
       "      <td>...</td>\n",
       "      <td>...</td>\n",
       "      <td>...</td>\n",
       "    </tr>\n",
       "    <tr>\n",
       "      <th>2011-09-02</th>\n",
       "      <td>0.118795</td>\n",
       "      <td>0.113550</td>\n",
       "      <td>0.153607</td>\n",
       "      <td>0.123049</td>\n",
       "      <td>0.146069</td>\n",
       "      <td>0.087884</td>\n",
       "      <td>0.069048</td>\n",
       "      <td>0.172149</td>\n",
       "    </tr>\n",
       "    <tr>\n",
       "      <th>2011-09-06</th>\n",
       "      <td>0.119716</td>\n",
       "      <td>0.112987</td>\n",
       "      <td>0.154197</td>\n",
       "      <td>0.122959</td>\n",
       "      <td>0.152826</td>\n",
       "      <td>0.086713</td>\n",
       "      <td>0.070493</td>\n",
       "      <td>0.170090</td>\n",
       "    </tr>\n",
       "    <tr>\n",
       "      <th>2011-09-07</th>\n",
       "      <td>0.119995</td>\n",
       "      <td>0.115305</td>\n",
       "      <td>0.151740</td>\n",
       "      <td>0.119750</td>\n",
       "      <td>0.157952</td>\n",
       "      <td>0.088057</td>\n",
       "      <td>0.068047</td>\n",
       "      <td>0.168858</td>\n",
       "    </tr>\n",
       "    <tr>\n",
       "      <th>2011-09-08</th>\n",
       "      <td>0.121250</td>\n",
       "      <td>0.112264</td>\n",
       "      <td>0.155497</td>\n",
       "      <td>0.117890</td>\n",
       "      <td>0.159666</td>\n",
       "      <td>0.096388</td>\n",
       "      <td>0.053249</td>\n",
       "      <td>0.171131</td>\n",
       "    </tr>\n",
       "    <tr>\n",
       "      <th>2011-09-09</th>\n",
       "      <td>0.121596</td>\n",
       "      <td>0.111664</td>\n",
       "      <td>0.155652</td>\n",
       "      <td>0.119694</td>\n",
       "      <td>0.159712</td>\n",
       "      <td>0.094540</td>\n",
       "      <td>0.053473</td>\n",
       "      <td>0.171567</td>\n",
       "    </tr>\n",
       "    <tr>\n",
       "      <th>2011-09-12</th>\n",
       "      <td>0.121440</td>\n",
       "      <td>0.111698</td>\n",
       "      <td>0.156013</td>\n",
       "      <td>0.120170</td>\n",
       "      <td>0.160830</td>\n",
       "      <td>0.094088</td>\n",
       "      <td>0.054678</td>\n",
       "      <td>0.171452</td>\n",
       "    </tr>\n",
       "    <tr>\n",
       "      <th>2011-09-13</th>\n",
       "      <td>0.118962</td>\n",
       "      <td>0.114142</td>\n",
       "      <td>0.155113</td>\n",
       "      <td>0.120281</td>\n",
       "      <td>0.159585</td>\n",
       "      <td>0.095301</td>\n",
       "      <td>0.055296</td>\n",
       "      <td>0.174021</td>\n",
       "    </tr>\n",
       "    <tr>\n",
       "      <th>2011-09-14</th>\n",
       "      <td>0.118919</td>\n",
       "      <td>0.115124</td>\n",
       "      <td>0.156302</td>\n",
       "      <td>0.119008</td>\n",
       "      <td>0.157445</td>\n",
       "      <td>0.095580</td>\n",
       "      <td>0.057197</td>\n",
       "      <td>0.173389</td>\n",
       "    </tr>\n",
       "    <tr>\n",
       "      <th>2011-09-15</th>\n",
       "      <td>0.119306</td>\n",
       "      <td>0.114440</td>\n",
       "      <td>0.155891</td>\n",
       "      <td>0.118730</td>\n",
       "      <td>0.158034</td>\n",
       "      <td>0.095800</td>\n",
       "      <td>0.056263</td>\n",
       "      <td>0.173343</td>\n",
       "    </tr>\n",
       "    <tr>\n",
       "      <th>2011-09-16</th>\n",
       "      <td>0.120067</td>\n",
       "      <td>0.114130</td>\n",
       "      <td>0.155334</td>\n",
       "      <td>0.118139</td>\n",
       "      <td>0.158391</td>\n",
       "      <td>0.096529</td>\n",
       "      <td>0.055938</td>\n",
       "      <td>0.172719</td>\n",
       "    </tr>\n",
       "    <tr>\n",
       "      <th>2011-09-19</th>\n",
       "      <td>0.133639</td>\n",
       "      <td>0.115535</td>\n",
       "      <td>0.149628</td>\n",
       "      <td>0.119900</td>\n",
       "      <td>0.157706</td>\n",
       "      <td>0.080299</td>\n",
       "      <td>0.063812</td>\n",
       "      <td>0.167040</td>\n",
       "    </tr>\n",
       "    <tr>\n",
       "      <th>2011-09-20</th>\n",
       "      <td>0.136582</td>\n",
       "      <td>0.112904</td>\n",
       "      <td>0.147488</td>\n",
       "      <td>0.119272</td>\n",
       "      <td>0.158533</td>\n",
       "      <td>0.078577</td>\n",
       "      <td>0.066292</td>\n",
       "      <td>0.167673</td>\n",
       "    </tr>\n",
       "    <tr>\n",
       "      <th>2011-09-21</th>\n",
       "      <td>0.134080</td>\n",
       "      <td>0.114075</td>\n",
       "      <td>0.144979</td>\n",
       "      <td>0.119562</td>\n",
       "      <td>0.159975</td>\n",
       "      <td>0.077819</td>\n",
       "      <td>0.066702</td>\n",
       "      <td>0.170862</td>\n",
       "    </tr>\n",
       "    <tr>\n",
       "      <th>2011-09-22</th>\n",
       "      <td>0.133270</td>\n",
       "      <td>0.110105</td>\n",
       "      <td>0.148485</td>\n",
       "      <td>0.116784</td>\n",
       "      <td>0.163772</td>\n",
       "      <td>0.085818</td>\n",
       "      <td>0.057857</td>\n",
       "      <td>0.172998</td>\n",
       "    </tr>\n",
       "    <tr>\n",
       "      <th>2011-09-23</th>\n",
       "      <td>0.132725</td>\n",
       "      <td>0.111567</td>\n",
       "      <td>0.148716</td>\n",
       "      <td>0.116762</td>\n",
       "      <td>0.162864</td>\n",
       "      <td>0.086877</td>\n",
       "      <td>0.056275</td>\n",
       "      <td>0.173274</td>\n",
       "    </tr>\n",
       "    <tr>\n",
       "      <th>2011-09-26</th>\n",
       "      <td>0.131645</td>\n",
       "      <td>0.112252</td>\n",
       "      <td>0.151479</td>\n",
       "      <td>0.117118</td>\n",
       "      <td>0.159983</td>\n",
       "      <td>0.087251</td>\n",
       "      <td>0.053199</td>\n",
       "      <td>0.173974</td>\n",
       "    </tr>\n",
       "    <tr>\n",
       "      <th>2011-09-27</th>\n",
       "      <td>0.131406</td>\n",
       "      <td>0.112487</td>\n",
       "      <td>0.151602</td>\n",
       "      <td>0.117985</td>\n",
       "      <td>0.160518</td>\n",
       "      <td>0.086821</td>\n",
       "      <td>0.053513</td>\n",
       "      <td>0.173542</td>\n",
       "    </tr>\n",
       "    <tr>\n",
       "      <th>2011-09-28</th>\n",
       "      <td>0.131234</td>\n",
       "      <td>0.111981</td>\n",
       "      <td>0.151539</td>\n",
       "      <td>0.118545</td>\n",
       "      <td>0.161194</td>\n",
       "      <td>0.086766</td>\n",
       "      <td>0.053473</td>\n",
       "      <td>0.173734</td>\n",
       "    </tr>\n",
       "    <tr>\n",
       "      <th>2011-09-29</th>\n",
       "      <td>0.136007</td>\n",
       "      <td>0.111726</td>\n",
       "      <td>0.152576</td>\n",
       "      <td>0.114328</td>\n",
       "      <td>0.161634</td>\n",
       "      <td>0.086070</td>\n",
       "      <td>0.054173</td>\n",
       "      <td>0.171706</td>\n",
       "    </tr>\n",
       "    <tr>\n",
       "      <th>2011-09-30</th>\n",
       "      <td>0.136550</td>\n",
       "      <td>0.112707</td>\n",
       "      <td>0.151464</td>\n",
       "      <td>0.114082</td>\n",
       "      <td>0.161084</td>\n",
       "      <td>0.087460</td>\n",
       "      <td>0.053595</td>\n",
       "      <td>0.169982</td>\n",
       "    </tr>\n",
       "    <tr>\n",
       "      <th>2011-10-03</th>\n",
       "      <td>0.137794</td>\n",
       "      <td>0.111400</td>\n",
       "      <td>0.157134</td>\n",
       "      <td>0.109374</td>\n",
       "      <td>0.161094</td>\n",
       "      <td>0.085997</td>\n",
       "      <td>0.054606</td>\n",
       "      <td>0.170074</td>\n",
       "    </tr>\n",
       "    <tr>\n",
       "      <th>2011-10-04</th>\n",
       "      <td>0.137662</td>\n",
       "      <td>0.111476</td>\n",
       "      <td>0.157147</td>\n",
       "      <td>0.109538</td>\n",
       "      <td>0.160903</td>\n",
       "      <td>0.086125</td>\n",
       "      <td>0.054208</td>\n",
       "      <td>0.170162</td>\n",
       "    </tr>\n",
       "    <tr>\n",
       "      <th>2011-10-05</th>\n",
       "      <td>0.144822</td>\n",
       "      <td>0.105130</td>\n",
       "      <td>0.153176</td>\n",
       "      <td>0.104519</td>\n",
       "      <td>0.153067</td>\n",
       "      <td>0.095430</td>\n",
       "      <td>0.049346</td>\n",
       "      <td>0.175752</td>\n",
       "    </tr>\n",
       "    <tr>\n",
       "      <th>2011-10-06</th>\n",
       "      <td>0.144864</td>\n",
       "      <td>0.105195</td>\n",
       "      <td>0.154040</td>\n",
       "      <td>0.104367</td>\n",
       "      <td>0.152292</td>\n",
       "      <td>0.096325</td>\n",
       "      <td>0.048117</td>\n",
       "      <td>0.175762</td>\n",
       "    </tr>\n",
       "    <tr>\n",
       "      <th>2011-10-07</th>\n",
       "      <td>0.148311</td>\n",
       "      <td>0.103951</td>\n",
       "      <td>0.154386</td>\n",
       "      <td>0.105285</td>\n",
       "      <td>0.151178</td>\n",
       "      <td>0.097027</td>\n",
       "      <td>0.049115</td>\n",
       "      <td>0.171256</td>\n",
       "    </tr>\n",
       "    <tr>\n",
       "      <th>2011-10-10</th>\n",
       "      <td>0.148949</td>\n",
       "      <td>0.105777</td>\n",
       "      <td>0.154372</td>\n",
       "      <td>0.103680</td>\n",
       "      <td>0.149252</td>\n",
       "      <td>0.097214</td>\n",
       "      <td>0.048045</td>\n",
       "      <td>0.171906</td>\n",
       "    </tr>\n",
       "    <tr>\n",
       "      <th>2011-10-11</th>\n",
       "      <td>0.147511</td>\n",
       "      <td>0.107783</td>\n",
       "      <td>0.154628</td>\n",
       "      <td>0.104079</td>\n",
       "      <td>0.149792</td>\n",
       "      <td>0.096418</td>\n",
       "      <td>0.048699</td>\n",
       "      <td>0.173265</td>\n",
       "    </tr>\n",
       "    <tr>\n",
       "      <th>2011-10-12</th>\n",
       "      <td>0.145111</td>\n",
       "      <td>0.098612</td>\n",
       "      <td>0.165370</td>\n",
       "      <td>0.108685</td>\n",
       "      <td>0.150765</td>\n",
       "      <td>0.093156</td>\n",
       "      <td>0.046975</td>\n",
       "      <td>0.172215</td>\n",
       "    </tr>\n",
       "    <tr>\n",
       "      <th>2011-10-13</th>\n",
       "      <td>0.140951</td>\n",
       "      <td>0.100405</td>\n",
       "      <td>0.168585</td>\n",
       "      <td>0.107018</td>\n",
       "      <td>0.148804</td>\n",
       "      <td>0.090967</td>\n",
       "      <td>0.056186</td>\n",
       "      <td>0.174241</td>\n",
       "    </tr>\n",
       "    <tr>\n",
       "      <th>2011-10-14</th>\n",
       "      <td>0.141010</td>\n",
       "      <td>0.100858</td>\n",
       "      <td>0.165796</td>\n",
       "      <td>0.112852</td>\n",
       "      <td>0.147007</td>\n",
       "      <td>0.091448</td>\n",
       "      <td>0.058506</td>\n",
       "      <td>0.174814</td>\n",
       "    </tr>\n",
       "  </tbody>\n",
       "</table>\n",
       "<p>2866 rows × 8 columns</p>\n",
       "</div>"
      ],
      "text/plain": [
       "                  AA      AAPL        GE       IBM       JNJ      MSFT  \\\n",
       "2000-05-25  0.065235  0.085536  0.266469  0.141680  0.096941  0.119851   \n",
       "2000-05-26  0.064837  0.085826  0.267593  0.140545  0.097038  0.118427   \n",
       "2000-05-30  0.060039  0.086177  0.264837  0.142174  0.094203  0.119263   \n",
       "2000-05-31  0.060046  0.084790  0.269072  0.146778  0.094402  0.121191   \n",
       "2000-06-01  0.060094  0.084736  0.269166  0.146722  0.094452  0.121209   \n",
       "2000-06-02  0.059618  0.089974  0.266128  0.142952  0.089774  0.123846   \n",
       "2000-06-05  0.067653  0.091146  0.263937  0.144436  0.085848  0.125224   \n",
       "2000-06-06  0.068033  0.091742  0.266060  0.141226  0.085104  0.124537   \n",
       "2000-06-07  0.069427  0.090095  0.273135  0.142250  0.088627  0.118899   \n",
       "2000-06-08  0.071354  0.089520  0.274226  0.135911  0.090030  0.118799   \n",
       "2000-06-09  0.071219  0.089504  0.274017  0.135768  0.090212  0.118747   \n",
       "2000-06-12  0.071208  0.089581  0.273397  0.135803  0.091104  0.118814   \n",
       "2000-06-13  0.071016  0.089413  0.273584  0.135804  0.090720  0.118709   \n",
       "2000-06-14  0.070882  0.089441  0.273695  0.135779  0.090854  0.118734   \n",
       "2000-06-15  0.068614  0.090180  0.274708  0.137010  0.089557  0.117389   \n",
       "2000-06-16  0.066414  0.090239  0.273782  0.137166  0.088243  0.116040   \n",
       "2000-06-19  0.066056  0.090118  0.274392  0.137957  0.088626  0.115853   \n",
       "2000-06-20  0.064735  0.091193  0.271802  0.141578  0.088790  0.115994   \n",
       "2000-06-21  0.063137  0.089644  0.267829  0.146209  0.088958  0.116221   \n",
       "2000-06-22  0.065020  0.087365  0.272107  0.147721  0.088784  0.113886   \n",
       "2000-06-23  0.063278  0.087986  0.272946  0.149180  0.088918  0.113592   \n",
       "2000-06-26  0.059146  0.090104  0.269137  0.149342  0.086249  0.115013   \n",
       "2000-06-27  0.061393  0.089622  0.270317  0.148458  0.082736  0.114355   \n",
       "2000-06-28  0.065706  0.088549  0.268070  0.144951  0.087397  0.115145   \n",
       "2000-06-29  0.067803  0.086508  0.263586  0.140376  0.089188  0.116994   \n",
       "2000-06-30  0.067137  0.085146  0.263450  0.141125  0.090293  0.117093   \n",
       "2000-07-03  0.068652  0.086209  0.252461  0.148969  0.087894  0.114315   \n",
       "2000-07-05  0.073487  0.087937  0.248006  0.149086  0.089118  0.113856   \n",
       "2000-07-06  0.074415  0.087941  0.244857  0.146711  0.090006  0.114036   \n",
       "2000-07-07  0.072072  0.087855  0.246278  0.143248  0.087281  0.116069   \n",
       "...              ...       ...       ...       ...       ...       ...   \n",
       "2011-09-02  0.118795  0.113550  0.153607  0.123049  0.146069  0.087884   \n",
       "2011-09-06  0.119716  0.112987  0.154197  0.122959  0.152826  0.086713   \n",
       "2011-09-07  0.119995  0.115305  0.151740  0.119750  0.157952  0.088057   \n",
       "2011-09-08  0.121250  0.112264  0.155497  0.117890  0.159666  0.096388   \n",
       "2011-09-09  0.121596  0.111664  0.155652  0.119694  0.159712  0.094540   \n",
       "2011-09-12  0.121440  0.111698  0.156013  0.120170  0.160830  0.094088   \n",
       "2011-09-13  0.118962  0.114142  0.155113  0.120281  0.159585  0.095301   \n",
       "2011-09-14  0.118919  0.115124  0.156302  0.119008  0.157445  0.095580   \n",
       "2011-09-15  0.119306  0.114440  0.155891  0.118730  0.158034  0.095800   \n",
       "2011-09-16  0.120067  0.114130  0.155334  0.118139  0.158391  0.096529   \n",
       "2011-09-19  0.133639  0.115535  0.149628  0.119900  0.157706  0.080299   \n",
       "2011-09-20  0.136582  0.112904  0.147488  0.119272  0.158533  0.078577   \n",
       "2011-09-21  0.134080  0.114075  0.144979  0.119562  0.159975  0.077819   \n",
       "2011-09-22  0.133270  0.110105  0.148485  0.116784  0.163772  0.085818   \n",
       "2011-09-23  0.132725  0.111567  0.148716  0.116762  0.162864  0.086877   \n",
       "2011-09-26  0.131645  0.112252  0.151479  0.117118  0.159983  0.087251   \n",
       "2011-09-27  0.131406  0.112487  0.151602  0.117985  0.160518  0.086821   \n",
       "2011-09-28  0.131234  0.111981  0.151539  0.118545  0.161194  0.086766   \n",
       "2011-09-29  0.136007  0.111726  0.152576  0.114328  0.161634  0.086070   \n",
       "2011-09-30  0.136550  0.112707  0.151464  0.114082  0.161084  0.087460   \n",
       "2011-10-03  0.137794  0.111400  0.157134  0.109374  0.161094  0.085997   \n",
       "2011-10-04  0.137662  0.111476  0.157147  0.109538  0.160903  0.086125   \n",
       "2011-10-05  0.144822  0.105130  0.153176  0.104519  0.153067  0.095430   \n",
       "2011-10-06  0.144864  0.105195  0.154040  0.104367  0.152292  0.096325   \n",
       "2011-10-07  0.148311  0.103951  0.154386  0.105285  0.151178  0.097027   \n",
       "2011-10-10  0.148949  0.105777  0.154372  0.103680  0.149252  0.097214   \n",
       "2011-10-11  0.147511  0.107783  0.154628  0.104079  0.149792  0.096418   \n",
       "2011-10-12  0.145111  0.098612  0.165370  0.108685  0.150765  0.093156   \n",
       "2011-10-13  0.140951  0.100405  0.168585  0.107018  0.148804  0.090967   \n",
       "2011-10-14  0.141010  0.100858  0.165796  0.112852  0.147007  0.091448   \n",
       "\n",
       "                 PEP       XOM  \n",
       "2000-05-25  0.029147  0.051542  \n",
       "2000-05-26  0.027764  0.050972  \n",
       "2000-05-30  0.034181  0.053691  \n",
       "2000-05-31  0.031860  0.055460  \n",
       "2000-06-01  0.031784  0.055405  \n",
       "2000-06-02  0.030354  0.055781  \n",
       "2000-06-05  0.032503  0.048051  \n",
       "2000-06-06  0.034528  0.047436  \n",
       "2000-06-07  0.020842  0.038994  \n",
       "2000-06-08  0.018621  0.039706  \n",
       "2000-06-09  0.019302  0.039352  \n",
       "2000-06-12  0.018115  0.039102  \n",
       "2000-06-13  0.018479  0.039477  \n",
       "2000-06-14  0.018580  0.039484  \n",
       "2000-06-15  0.018460  0.039818  \n",
       "2000-06-16  0.020222  0.041056  \n",
       "2000-06-19  0.019813  0.040341  \n",
       "2000-06-20  0.020391  0.040894  \n",
       "2000-06-21  0.031227  0.041232  \n",
       "2000-06-22  0.027006  0.040478  \n",
       "2000-06-23  0.027623  0.042437  \n",
       "2000-06-26  0.030423  0.043458  \n",
       "2000-06-27  0.027807  0.043767  \n",
       "2000-06-28  0.026156  0.039839  \n",
       "2000-06-29  0.027174  0.038681  \n",
       "2000-06-30  0.025550  0.038045  \n",
       "2000-07-03  0.018830  0.047283  \n",
       "2000-07-05  0.011198  0.050113  \n",
       "2000-07-06  0.013063  0.046539  \n",
       "2000-07-07  0.015487  0.049013  \n",
       "...              ...       ...  \n",
       "2011-09-02  0.069048  0.172149  \n",
       "2011-09-06  0.070493  0.170090  \n",
       "2011-09-07  0.068047  0.168858  \n",
       "2011-09-08  0.053249  0.171131  \n",
       "2011-09-09  0.053473  0.171567  \n",
       "2011-09-12  0.054678  0.171452  \n",
       "2011-09-13  0.055296  0.174021  \n",
       "2011-09-14  0.057197  0.173389  \n",
       "2011-09-15  0.056263  0.173343  \n",
       "2011-09-16  0.055938  0.172719  \n",
       "2011-09-19  0.063812  0.167040  \n",
       "2011-09-20  0.066292  0.167673  \n",
       "2011-09-21  0.066702  0.170862  \n",
       "2011-09-22  0.057857  0.172998  \n",
       "2011-09-23  0.056275  0.173274  \n",
       "2011-09-26  0.053199  0.173974  \n",
       "2011-09-27  0.053513  0.173542  \n",
       "2011-09-28  0.053473  0.173734  \n",
       "2011-09-29  0.054173  0.171706  \n",
       "2011-09-30  0.053595  0.169982  \n",
       "2011-10-03  0.054606  0.170074  \n",
       "2011-10-04  0.054208  0.170162  \n",
       "2011-10-05  0.049346  0.175752  \n",
       "2011-10-06  0.048117  0.175762  \n",
       "2011-10-07  0.049115  0.171256  \n",
       "2011-10-10  0.048045  0.171906  \n",
       "2011-10-11  0.048699  0.173265  \n",
       "2011-10-12  0.046975  0.172215  \n",
       "2011-10-13  0.056186  0.174241  \n",
       "2011-10-14  0.058506  0.174814  \n",
       "\n",
       "[2866 rows x 8 columns]"
      ]
     },
     "execution_count": 38,
     "metadata": {},
     "output_type": "execute_result"
    }
   ],
   "source": [
    "def rolling_min_te_portfolio(univ_returns, track_returns, window=250, min_periods=100):\n",
    "    ports = {}\n",
    "    for i, cur_date in enumerate(univ_returns.index):\n",
    "        if i < min_periods:\n",
    "            continue\n",
    "\n",
    "        univ_slice = univ_returns[max(0, i - window + 1) : i]\n",
    "        track_slice = track_returns[max(0, i - window + 1) : i]\n",
    "\n",
    "        univ_slice = univ_slice.ix[:, univ_slice.count() > 0]\n",
    "\n",
    "        univ_slice = univ_slice.fillna(0)\n",
    "        track_slice = track_slice.fillna(0)\n",
    "        ports[cur_date] = get_opt_holdings_opt(univ_slice, track_slice)\n",
    "\n",
    "    return pd.DataFrame(ports).T\n",
    "\n",
    "ports = rolling_min_te_portfolio(rets, bmk)\n",
    "ports"
   ]
  },
  {
   "cell_type": "code",
   "execution_count": 34,
   "metadata": {
    "collapsed": false,
    "slideshow": {
     "slide_type": "slide"
    }
   },
   "outputs": [
    {
     "data": {
      "text/plain": [
       "<matplotlib.axes._subplots.AxesSubplot at 0x108ec1b10>"
      ]
     },
     "execution_count": 34,
     "metadata": {},
     "output_type": "execute_result"
    },
    {
     "data": {
      "image/png": "[encoded data removed]",
      "text/plain": [
       "<matplotlib.figure.Figure at 0x108023550>"
      ]
     },
     "metadata": {},
     "output_type": "display_data"
    }
   ],
   "source": [
    "ports['XOM'].plot()"
   ]
  },
  {
   "cell_type": "code",
   "execution_count": 35,
   "metadata": {
    "collapsed": false,
    "slideshow": {
     "slide_type": "slide"
    }
   },
   "outputs": [
    {
     "data": {
      "image/png": "[encoded data removed]",
      "text/plain": [
       "<matplotlib.figure.Figure at 0x107d7d3d0>"
      ]
     },
     "metadata": {},
     "output_type": "display_data"
    }
   ],
   "source": [
    "port_return = (ports.shift(1) * rets).sum(1)\n",
    "plot_returns(port_return, bmk)"
   ]
  },
  {
   "cell_type": "markdown",
   "metadata": {
    "slideshow": {
     "slide_type": "slide"
    }
   },
   "source": [
    "## 夏普比率（Sharpe Ratio）"
   ]
  },
  {
   "cell_type": "code",
   "execution_count": 36,
   "metadata": {
    "collapsed": false,
    "slideshow": {
     "slide_type": "fragment"
    }
   },
   "outputs": [
    {
     "data": {
      "text/plain": [
       "0.3368934389129985"
      ]
     },
     "execution_count": 36,
     "metadata": {},
     "output_type": "execute_result"
    }
   ],
   "source": [
    "def sharpe(rets, ann=250):\n",
    "    return np.sqrt(ann) * rets.mean() / rets.std()\n",
    "sharpe(port_return)"
   ]
  },
  {
   "cell_type": "code",
   "execution_count": 37,
   "metadata": {
    "collapsed": false,
    "slideshow": {
     "slide_type": "fragment"
    }
   },
   "outputs": [
    {
     "data": {
      "text/plain": [
       "0.042545533865768419"
      ]
     },
     "execution_count": 37,
     "metadata": {},
     "output_type": "execute_result"
    }
   ],
   "source": [
    "sharpe(bmk)"
   ]
  },
  {
   "cell_type": "markdown",
   "metadata": {
    "slideshow": {
     "slide_type": "slide"
    }
   },
   "source": [
    "# PyData库\n",
    "\n",
    " * 高性能计算：[Cython](http://cython.org/), [Numba](http://numba.pydata.org/), [Theano](https://github.com/Theano/Theano\n",
    "), [PyCUDA](http://mathema.tician.de/software/pycuda/)\n",
    "\n",
    " * 大数据： [Blaze](http://blaze.pydata.org/en/latest/) + [Dask](http://dask.pydata.org/en/latest/)  [Ibis](https://github.com/cloudera/ibis)  [PySpark](https://spark.apache.org/docs/0.9.0/python-programming-guide.html) [bcolz](https://github.com/Blosc/bcolz)\n",
    "\n",
    " * 交互数据可视化：[Bokeh](http://bokeh.pydata.org/en/latest/) [Seaborn](http://stanford.edu/~mwaskom/software/seaborn/) [Plotly](https://plot.ly)"
   ]
  },
  {
   "cell_type": "markdown",
   "metadata": {
    "slideshow": {
     "slide_type": "slide"
    }
   },
   "source": [
    "## 参考资料\n",
    "\n",
    " * [Statistics and Data Analysis in Python with pandas and statsmodels](http://www.slideshare.net/wesm/data-analysis-and-statistics-in-python-using-pandas-and-statsmodels)\n",
    " * [Python for Financial Data Analysis with pandas](http://wesmckinney.com/blog/python-for-financial-data-analysis-with-pandas/)\n",
    " * [The Path of the PyData Ninja](https://github.com/twiecki/pydata_ninja)\n",
    " * [Timeseries Analysis in Python](https://github.com/changhiskhan/pydata2013)"
   ]
  },
  {
   "cell_type": "markdown",
   "metadata": {
    "slideshow": {
     "slide_type": "slide"
    }
   },
   "source": [
    "# Q&A"
   ]
  }
 ],
 "metadata": {
  "celltoolbar": "Slideshow",
  "kernelspec": {
   "display_name": "Python 2",
   "language": "python",
   "name": "python2"
  },
  "language_info": {
   "codemirror_mode": {
    "name": "ipython",
    "version": 2
   },
   "file_extension": ".py",
   "mimetype": "text/x-python",
   "name": "python",
   "nbconvert_exporter": "python",
   "pygments_lexer": "ipython2",
   "version": "2.7.10"
  }
 },
 "nbformat": 4,
 "nbformat_minor": 0
}
